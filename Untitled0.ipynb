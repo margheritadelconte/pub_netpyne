{
  "nbformat": 4,
  "nbformat_minor": 0,
  "metadata": {
    "colab": {
      "provenance": [],
      "authorship_tag": "ABX9TyM/p/dFevhc+hMC9DoNcLa9",
      "include_colab_link": true
    },
    "kernelspec": {
      "name": "python3",
      "display_name": "Python 3"
    },
    "language_info": {
      "name": "python"
    }
  },
  "cells": [
    {
      "cell_type": "markdown",
      "metadata": {
        "id": "view-in-github",
        "colab_type": "text"
      },
      "source": [
        "<a href=\"https://colab.research.google.com/github/margheritadelconte/pub_netpyne/blob/main/Untitled0.ipynb\" target=\"_parent\"><img src=\"https://colab.research.google.com/assets/colab-badge.svg\" alt=\"Open In Colab\"/></a>"
      ]
    },
    {
      "cell_type": "code",
      "execution_count": 3,
      "metadata": {
        "colab": {
          "base_uri": "https://localhost:8080/"
        },
        "id": "R68QKsonLDN7",
        "outputId": "e0e823f6-9266-4821-f29e-77b425442c4a"
      },
      "outputs": [
        {
          "output_type": "execute_result",
          "data": {
            "text/plain": [
              "10"
            ]
          },
          "metadata": {},
          "execution_count": 3
        }
      ],
      "source": [
        "#heading 1\n",
        "a = 10\n",
        "a"
      ]
    },
    {
      "cell_type": "markdown",
      "source": [
        "heading 1 being\n"
      ],
      "metadata": {
        "id": "2ulLgNL-LRQA"
      }
    },
    {
      "cell_type": "code",
      "source": [
        "!pwd"
      ],
      "metadata": {
        "colab": {
          "base_uri": "https://localhost:8080/"
        },
        "id": "oGf3yPvGLH7H",
        "outputId": "1a3eedf6-66ef-4842-9197-5b786d8ba31c"
      },
      "execution_count": 4,
      "outputs": [
        {
          "output_type": "stream",
          "name": "stdout",
          "text": [
            "/content\n"
          ]
        }
      ]
    },
    {
      "cell_type": "code",
      "source": [
        "!mkdir joe"
      ],
      "metadata": {
        "id": "AZqcHxkNMEFd"
      },
      "execution_count": 5,
      "outputs": []
    },
    {
      "cell_type": "code",
      "source": [
        "ls"
      ],
      "metadata": {
        "colab": {
          "base_uri": "https://localhost:8080/"
        },
        "id": "oq-iLyd9MIiw",
        "outputId": "423981f7-2e26-43b5-c237-87a8b2268ddf"
      },
      "execution_count": 6,
      "outputs": [
        {
          "output_type": "stream",
          "name": "stdout",
          "text": [
            "\u001b[0m\u001b[01;34mjoe\u001b[0m/  \u001b[01;34msample_data\u001b[0m/\n"
          ]
        }
      ]
    },
    {
      "cell_type": "code",
      "source": [],
      "metadata": {
        "id": "lIzUaz7sMKyO"
      },
      "execution_count": null,
      "outputs": []
    },
    {
      "cell_type": "markdown",
      "source": [
        "#netpyne course 2021"
      ],
      "metadata": {
        "id": "y8FdSlobMbjJ"
      }
    },
    {
      "cell_type": "code",
      "source": [],
      "metadata": {
        "id": "D1vpyXUlMf0L"
      },
      "execution_count": null,
      "outputs": []
    },
    {
      "cell_type": "markdown",
      "source": [
        "working with colab"
      ],
      "metadata": {
        "id": "key1uySMMjBS"
      }
    },
    {
      "cell_type": "code",
      "source": [
        "!pip install neuron"
      ],
      "metadata": {
        "colab": {
          "base_uri": "https://localhost:8080/"
        },
        "id": "GlPPr5D5Ml54",
        "outputId": "ebbafe2c-8406-4bdb-f8ee-e06d9ced52bf"
      },
      "execution_count": 7,
      "outputs": [
        {
          "output_type": "stream",
          "name": "stdout",
          "text": [
            "Collecting neuron\n",
            "  Downloading neuron-8.2.7-cp311-cp311-manylinux_2_17_x86_64.manylinux2014_x86_64.whl.metadata (3.7 kB)\n",
            "Requirement already satisfied: numpy>=1.9.3 in /usr/local/lib/python3.11/dist-packages (from neuron) (2.0.2)\n",
            "Requirement already satisfied: packaging in /usr/local/lib/python3.11/dist-packages (from neuron) (25.0)\n",
            "Collecting find_libpython (from neuron)\n",
            "  Downloading find_libpython-0.4.1-py3-none-any.whl.metadata (2.8 kB)\n",
            "Requirement already satisfied: setuptools in /usr/local/lib/python3.11/dist-packages (from neuron) (75.2.0)\n",
            "Downloading neuron-8.2.7-cp311-cp311-manylinux_2_17_x86_64.manylinux2014_x86_64.whl (14.6 MB)\n",
            "\u001b[2K   \u001b[90m━━━━━━━━━━━━━━━━━━━━━━━━━━━━━━━━━━━━━━━━\u001b[0m \u001b[32m14.6/14.6 MB\u001b[0m \u001b[31m12.4 MB/s\u001b[0m eta \u001b[36m0:00:00\u001b[0m\n",
            "\u001b[?25hDownloading find_libpython-0.4.1-py3-none-any.whl (8.8 kB)\n",
            "Installing collected packages: find_libpython, neuron\n",
            "Successfully installed find_libpython-0.4.1 neuron-8.2.7\n"
          ]
        }
      ]
    },
    {
      "cell_type": "code",
      "source": [
        "!which nrnivmodl"
      ],
      "metadata": {
        "colab": {
          "base_uri": "https://localhost:8080/"
        },
        "id": "miXUO-5BMq3y",
        "outputId": "65ad4ec4-7498-4056-cd02-c285670d08a5"
      },
      "execution_count": 8,
      "outputs": [
        {
          "output_type": "stream",
          "name": "stdout",
          "text": [
            "/usr/local/bin/nrnivmodl\n"
          ]
        }
      ]
    },
    {
      "cell_type": "code",
      "source": [],
      "metadata": {
        "id": "EvKfQICrM6dV"
      },
      "execution_count": null,
      "outputs": []
    },
    {
      "cell_type": "markdown",
      "source": [
        "install netpyne"
      ],
      "metadata": {
        "id": "MoKy2xkAM-IE"
      }
    },
    {
      "cell_type": "code",
      "source": [
        "!pip install netpyne"
      ],
      "metadata": {
        "colab": {
          "base_uri": "https://localhost:8080/"
        },
        "id": "w91xgmjfNGyZ",
        "outputId": "35cc8016-9276-4f50-b893-e98dfd3ddc12"
      },
      "execution_count": 9,
      "outputs": [
        {
          "output_type": "stream",
          "name": "stdout",
          "text": [
            "Collecting netpyne\n",
            "  Downloading netpyne-1.1.0-py2.py3-none-any.whl.metadata (2.8 kB)\n",
            "Requirement already satisfied: numpy in /usr/local/lib/python3.11/dist-packages (from netpyne) (2.0.2)\n",
            "Requirement already satisfied: scipy in /usr/local/lib/python3.11/dist-packages (from netpyne) (1.16.1)\n",
            "Requirement already satisfied: matplotlib in /usr/local/lib/python3.11/dist-packages (from netpyne) (3.10.0)\n",
            "Collecting matplotlib-scalebar (from netpyne)\n",
            "  Downloading matplotlib_scalebar-0.9.0-py3-none-any.whl.metadata (18 kB)\n",
            "Requirement already satisfied: future in /usr/local/lib/python3.11/dist-packages (from netpyne) (1.0.0)\n",
            "Requirement already satisfied: pandas in /usr/local/lib/python3.11/dist-packages (from netpyne) (2.2.2)\n",
            "Requirement already satisfied: bokeh in /usr/local/lib/python3.11/dist-packages (from netpyne) (3.7.3)\n",
            "Collecting schema (from netpyne)\n",
            "  Downloading schema-0.7.7-py2.py3-none-any.whl.metadata (34 kB)\n",
            "Collecting lfpykit (from netpyne)\n",
            "  Downloading LFPykit-0.5.1-py3-none-any.whl.metadata (15 kB)\n",
            "Requirement already satisfied: tqdm in /usr/local/lib/python3.11/dist-packages (from netpyne) (4.67.1)\n",
            "Requirement already satisfied: Jinja2>=2.9 in /usr/local/lib/python3.11/dist-packages (from bokeh->netpyne) (3.1.6)\n",
            "Requirement already satisfied: contourpy>=1.2 in /usr/local/lib/python3.11/dist-packages (from bokeh->netpyne) (1.3.3)\n",
            "Requirement already satisfied: narwhals>=1.13 in /usr/local/lib/python3.11/dist-packages (from bokeh->netpyne) (2.1.0)\n",
            "Requirement already satisfied: packaging>=16.8 in /usr/local/lib/python3.11/dist-packages (from bokeh->netpyne) (25.0)\n",
            "Requirement already satisfied: pillow>=7.1.0 in /usr/local/lib/python3.11/dist-packages (from bokeh->netpyne) (11.3.0)\n",
            "Requirement already satisfied: PyYAML>=3.10 in /usr/local/lib/python3.11/dist-packages (from bokeh->netpyne) (6.0.2)\n",
            "Requirement already satisfied: tornado>=6.2 in /usr/local/lib/python3.11/dist-packages (from bokeh->netpyne) (6.4.2)\n",
            "Requirement already satisfied: xyzservices>=2021.09.1 in /usr/local/lib/python3.11/dist-packages (from bokeh->netpyne) (2025.4.0)\n",
            "Requirement already satisfied: python-dateutil>=2.8.2 in /usr/local/lib/python3.11/dist-packages (from pandas->netpyne) (2.9.0.post0)\n",
            "Requirement already satisfied: pytz>=2020.1 in /usr/local/lib/python3.11/dist-packages (from pandas->netpyne) (2025.2)\n",
            "Requirement already satisfied: tzdata>=2022.7 in /usr/local/lib/python3.11/dist-packages (from pandas->netpyne) (2025.2)\n",
            "Collecting meautility (from lfpykit->netpyne)\n",
            "  Downloading meautility-1.5.3-py3-none-any.whl.metadata (1.6 kB)\n",
            "Requirement already satisfied: cycler>=0.10 in /usr/local/lib/python3.11/dist-packages (from matplotlib->netpyne) (0.12.1)\n",
            "Requirement already satisfied: fonttools>=4.22.0 in /usr/local/lib/python3.11/dist-packages (from matplotlib->netpyne) (4.59.0)\n",
            "Requirement already satisfied: kiwisolver>=1.3.1 in /usr/local/lib/python3.11/dist-packages (from matplotlib->netpyne) (1.4.9)\n",
            "Requirement already satisfied: pyparsing>=2.3.1 in /usr/local/lib/python3.11/dist-packages (from matplotlib->netpyne) (3.2.3)\n",
            "Requirement already satisfied: MarkupSafe>=2.0 in /usr/local/lib/python3.11/dist-packages (from Jinja2>=2.9->bokeh->netpyne) (3.0.2)\n",
            "Requirement already satisfied: six>=1.5 in /usr/local/lib/python3.11/dist-packages (from python-dateutil>=2.8.2->pandas->netpyne) (1.17.0)\n",
            "Downloading netpyne-1.1.0-py2.py3-none-any.whl (435 kB)\n",
            "\u001b[2K   \u001b[90m━━━━━━━━━━━━━━━━━━━━━━━━━━━━━━━━━━━━━━━━\u001b[0m \u001b[32m435.0/435.0 kB\u001b[0m \u001b[31m13.3 MB/s\u001b[0m eta \u001b[36m0:00:00\u001b[0m\n",
            "\u001b[?25hDownloading LFPykit-0.5.1-py3-none-any.whl (71 kB)\n",
            "\u001b[2K   \u001b[90m━━━━━━━━━━━━━━━━━━━━━━━━━━━━━━━━━━━━━━━━\u001b[0m \u001b[32m71.2/71.2 kB\u001b[0m \u001b[31m5.0 MB/s\u001b[0m eta \u001b[36m0:00:00\u001b[0m\n",
            "\u001b[?25hDownloading matplotlib_scalebar-0.9.0-py3-none-any.whl (16 kB)\n",
            "Downloading schema-0.7.7-py2.py3-none-any.whl (18 kB)\n",
            "Downloading meautility-1.5.3-py3-none-any.whl (38 kB)\n",
            "Installing collected packages: schema, meautility, matplotlib-scalebar, lfpykit, netpyne\n",
            "Successfully installed lfpykit-0.5.1 matplotlib-scalebar-0.9.0 meautility-1.5.3 netpyne-1.1.0 schema-0.7.7\n"
          ]
        }
      ]
    },
    {
      "cell_type": "code",
      "source": [
        "import neuron"
      ],
      "metadata": {
        "id": "CA1BMRY4NJUE"
      },
      "execution_count": 10,
      "outputs": []
    },
    {
      "cell_type": "code",
      "source": [
        "import netpyne"
      ],
      "metadata": {
        "id": "Mbs2riKONPIe"
      },
      "execution_count": 11,
      "outputs": []
    },
    {
      "cell_type": "code",
      "source": [],
      "metadata": {
        "id": "yv6ugoZmNQni"
      },
      "execution_count": null,
      "outputs": []
    },
    {
      "cell_type": "markdown",
      "source": [
        "we can now use them in python"
      ],
      "metadata": {
        "id": "HfBBlHbfNS-G"
      }
    },
    {
      "cell_type": "code",
      "source": [],
      "metadata": {
        "id": "H1dXGzUxNV8F"
      },
      "execution_count": null,
      "outputs": []
    },
    {
      "cell_type": "markdown",
      "source": [
        "repositories are used to store, keep track of changes on code over time"
      ],
      "metadata": {
        "id": "7bHKKEgoNZZi"
      }
    },
    {
      "cell_type": "code",
      "source": [],
      "metadata": {
        "id": "2zaB23CoNli6"
      },
      "execution_count": null,
      "outputs": []
    }
  ]
}